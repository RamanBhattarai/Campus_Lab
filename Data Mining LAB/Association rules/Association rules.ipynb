{
 "cells": [
  {
   "cell_type": "code",
   "execution_count": 184,
   "metadata": {},
   "outputs": [],
   "source": [
    "import pandas as pd\n",
    "import matplotlib.pyplot as plt\n",
    "import mlxtend as mlx\n",
    "import numpy as np\n",
    "from mlxtend.frequent_patterns import fpgrowth, association_rules"
   ]
  },
  {
   "cell_type": "code",
   "execution_count": 185,
   "metadata": {},
   "outputs": [
    {
     "data": {
      "text/html": [
       "<div>\n",
       "<style scoped>\n",
       "    .dataframe tbody tr th:only-of-type {\n",
       "        vertical-align: middle;\n",
       "    }\n",
       "\n",
       "    .dataframe tbody tr th {\n",
       "        vertical-align: top;\n",
       "    }\n",
       "\n",
       "    .dataframe thead th {\n",
       "        text-align: right;\n",
       "    }\n",
       "</style>\n",
       "<table border=\"1\" class=\"dataframe\">\n",
       "  <thead>\n",
       "    <tr style=\"text-align: right;\">\n",
       "      <th></th>\n",
       "      <th>InvoiceNo</th>\n",
       "      <th>StockCode</th>\n",
       "      <th>Description</th>\n",
       "      <th>Quantity</th>\n",
       "      <th>InvoiceDate</th>\n",
       "      <th>UnitPrice</th>\n",
       "      <th>CustomerID</th>\n",
       "      <th>Country</th>\n",
       "    </tr>\n",
       "  </thead>\n",
       "  <tbody>\n",
       "    <tr>\n",
       "      <th>0</th>\n",
       "      <td>536365</td>\n",
       "      <td>85123A</td>\n",
       "      <td>WHITE HANGING HEART T-LIGHT HOLDER</td>\n",
       "      <td>6</td>\n",
       "      <td>12/1/2010 8:26</td>\n",
       "      <td>2.55</td>\n",
       "      <td>17850.0</td>\n",
       "      <td>United Kingdom</td>\n",
       "    </tr>\n",
       "    <tr>\n",
       "      <th>1</th>\n",
       "      <td>536365</td>\n",
       "      <td>71053</td>\n",
       "      <td>WHITE METAL LANTERN</td>\n",
       "      <td>6</td>\n",
       "      <td>12/1/2010 8:26</td>\n",
       "      <td>3.39</td>\n",
       "      <td>17850.0</td>\n",
       "      <td>United Kingdom</td>\n",
       "    </tr>\n",
       "    <tr>\n",
       "      <th>2</th>\n",
       "      <td>536365</td>\n",
       "      <td>84406B</td>\n",
       "      <td>CREAM CUPID HEARTS COAT HANGER</td>\n",
       "      <td>8</td>\n",
       "      <td>12/1/2010 8:26</td>\n",
       "      <td>2.75</td>\n",
       "      <td>17850.0</td>\n",
       "      <td>United Kingdom</td>\n",
       "    </tr>\n",
       "    <tr>\n",
       "      <th>3</th>\n",
       "      <td>536365</td>\n",
       "      <td>84029G</td>\n",
       "      <td>KNITTED UNION FLAG HOT WATER BOTTLE</td>\n",
       "      <td>6</td>\n",
       "      <td>12/1/2010 8:26</td>\n",
       "      <td>3.39</td>\n",
       "      <td>17850.0</td>\n",
       "      <td>United Kingdom</td>\n",
       "    </tr>\n",
       "    <tr>\n",
       "      <th>4</th>\n",
       "      <td>536365</td>\n",
       "      <td>84029E</td>\n",
       "      <td>RED WOOLLY HOTTIE WHITE HEART.</td>\n",
       "      <td>6</td>\n",
       "      <td>12/1/2010 8:26</td>\n",
       "      <td>3.39</td>\n",
       "      <td>17850.0</td>\n",
       "      <td>United Kingdom</td>\n",
       "    </tr>\n",
       "  </tbody>\n",
       "</table>\n",
       "</div>"
      ],
      "text/plain": [
       "  InvoiceNo StockCode                          Description  Quantity  \\\n",
       "0    536365    85123A   WHITE HANGING HEART T-LIGHT HOLDER         6   \n",
       "1    536365     71053                  WHITE METAL LANTERN         6   \n",
       "2    536365    84406B       CREAM CUPID HEARTS COAT HANGER         8   \n",
       "3    536365    84029G  KNITTED UNION FLAG HOT WATER BOTTLE         6   \n",
       "4    536365    84029E       RED WOOLLY HOTTIE WHITE HEART.         6   \n",
       "\n",
       "      InvoiceDate  UnitPrice  CustomerID         Country  \n",
       "0  12/1/2010 8:26       2.55     17850.0  United Kingdom  \n",
       "1  12/1/2010 8:26       3.39     17850.0  United Kingdom  \n",
       "2  12/1/2010 8:26       2.75     17850.0  United Kingdom  \n",
       "3  12/1/2010 8:26       3.39     17850.0  United Kingdom  \n",
       "4  12/1/2010 8:26       3.39     17850.0  United Kingdom  "
      ]
     },
     "execution_count": 185,
     "metadata": {},
     "output_type": "execute_result"
    }
   ],
   "source": [
    "df = pd.read_csv('Q_1.csv')\n",
    "df.head()"
   ]
  },
  {
   "cell_type": "code",
   "execution_count": 186,
   "metadata": {},
   "outputs": [],
   "source": [
    "df_C = df[df['InvoiceNo'].str.startswith('C')]\n",
    "df_c = df[df['InvoiceNo'].str.startswith('c')]"
   ]
  },
  {
   "cell_type": "code",
   "execution_count": 187,
   "metadata": {},
   "outputs": [],
   "source": [
    "count_C = df_C['InvoiceNo'].nunique()\n",
    "count_c = df_c['InvoiceNo'].nunique()"
   ]
  },
  {
   "cell_type": "code",
   "execution_count": 188,
   "metadata": {},
   "outputs": [
    {
     "name": "stdout",
     "output_type": "stream",
     "text": [
      "Total number of unique InvoiceNo that starts with c is = 3836\n"
     ]
    }
   ],
   "source": [
    "total_count = count_c+count_C\n",
    "print(\"Total number of unique InvoiceNo that starts with c is =\",total_count)"
   ]
  },
  {
   "cell_type": "code",
   "execution_count": 189,
   "metadata": {},
   "outputs": [
    {
     "data": {
      "text/plain": [
       "3836"
      ]
     },
     "execution_count": 189,
     "metadata": {},
     "output_type": "execute_result"
    }
   ],
   "source": [
    "unique = df_C.InvoiceNo.nunique()\n",
    "unique"
   ]
  },
  {
   "cell_type": "code",
   "execution_count": 190,
   "metadata": {},
   "outputs": [
    {
     "name": "stdout",
     "output_type": "stream",
     "text": [
      "The dataframe with no InvoiceNo starting with c is\n",
      "\n",
      "  InvoiceNo StockCode                          Description  Quantity  \\\n",
      "0    536365    85123A   WHITE HANGING HEART T-LIGHT HOLDER         6   \n",
      "1    536365     71053                  WHITE METAL LANTERN         6   \n",
      "2    536365    84406B       CREAM CUPID HEARTS COAT HANGER         8   \n",
      "3    536365    84029G  KNITTED UNION FLAG HOT WATER BOTTLE         6   \n",
      "4    536365    84029E       RED WOOLLY HOTTIE WHITE HEART.         6   \n",
      "\n",
      "      InvoiceDate  UnitPrice  CustomerID         Country  \n",
      "0  12/1/2010 8:26       2.55     17850.0  United Kingdom  \n",
      "1  12/1/2010 8:26       3.39     17850.0  United Kingdom  \n",
      "2  12/1/2010 8:26       2.75     17850.0  United Kingdom  \n",
      "3  12/1/2010 8:26       3.39     17850.0  United Kingdom  \n",
      "4  12/1/2010 8:26       3.39     17850.0  United Kingdom  \n"
     ]
    }
   ],
   "source": [
    "df = df[~df['InvoiceNo'].str.startswith('C')]\n",
    "df = df[~df['InvoiceNo'].str.startswith('c')]\n",
    "print(\"The dataframe with no InvoiceNo starting with c is\")\n",
    "print()\n",
    "print(df.head())"
   ]
  },
  {
   "cell_type": "code",
   "execution_count": 191,
   "metadata": {},
   "outputs": [],
   "source": [
    "unique_items = df['Description'].unique()\n",
    "unique_items_length = len(unique_items)"
   ]
  },
  {
   "cell_type": "code",
   "execution_count": 192,
   "metadata": {},
   "outputs": [
    {
     "data": {
      "text/plain": [
       "4059"
      ]
     },
     "execution_count": 192,
     "metadata": {},
     "output_type": "execute_result"
    }
   ],
   "source": [
    "unique_invoice = df['InvoiceNo'].unique()\n",
    "unique_invoice_length = len(unique_invoice)\n",
    "len(df['StockCode'].unique())"
   ]
  },
  {
   "cell_type": "code",
   "execution_count": 193,
   "metadata": {},
   "outputs": [
    {
     "data": {
      "text/plain": [
       "(22064, 4208)"
      ]
     },
     "execution_count": 193,
     "metadata": {},
     "output_type": "execute_result"
    }
   ],
   "source": [
    "data_matrix = np.zeros(shape = (unique_invoice_length,unique_items_length))\n",
    "data_matrix.shape"
   ]
  },
  {
   "cell_type": "code",
   "execution_count": 194,
   "metadata": {},
   "outputs": [
    {
     "name": "stdout",
     "output_type": "stream",
     "text": [
      "The matrix is\n",
      "[[1 1 1 ... 0 0 0]\n",
      " [0 0 0 ... 0 0 0]\n",
      " [0 0 0 ... 0 0 0]\n",
      " ...\n",
      " [0 0 0 ... 0 0 0]\n",
      " [0 0 0 ... 0 0 0]\n",
      " [0 0 0 ... 0 0 0]]\n"
     ]
    }
   ],
   "source": [
    "unique_products = df['StockCode'].unique()\n",
    "\n",
    "unique_invoices = df['InvoiceNo'].unique()\n",
    "\n",
    "\n",
    "matrix = pd.DataFrame(0, index=unique_invoices, columns=unique_products)\n",
    "\n",
    "for invoice_no, group in df.groupby('InvoiceNo'):\n",
    "    for product in group['StockCode']:\n",
    "        matrix.at[invoice_no, product] = 1\n",
    "\n",
    "data_matrix = np.asarray(matrix)\n",
    "print(\"The matrix is\")\n",
    "print(data_matrix)"
   ]
  },
  {
   "cell_type": "code",
   "execution_count": 195,
   "metadata": {},
   "outputs": [
    {
     "name": "stdout",
     "output_type": "stream",
     "text": [
      "The dataframe of matrix is\n",
      "        85123A  71053  84406B  84029G  84029E  22752  21730  22633  22632  \\\n",
      "536365       1      1       1       1       1      1      1      0      0   \n",
      "536366       0      0       0       0       0      0      0      1      1   \n",
      "536367       0      0       0       0       0      0      0      0      0   \n",
      "536368       0      0       0       0       0      0      0      0      0   \n",
      "536369       0      0       0       0       0      0      0      0      0   \n",
      "...        ...    ...     ...     ...     ...    ...    ...    ...    ...   \n",
      "581583       0      0       0       0       0      0      0      0      0   \n",
      "581584       0      0       0       0       0      0      0      0      0   \n",
      "581585       0      0       0       0       0      0      0      0      0   \n",
      "581586       0      0       0       0       0      0      0      0      0   \n",
      "581587       0      0       0       0       0      0      0      0      0   \n",
      "\n",
      "        84879  ...  23560  23576  23562  23561  23609  85179a  23617  90214U  \\\n",
      "536365      0  ...      0      0      0      0      0       0      0       0   \n",
      "536366      0  ...      0      0      0      0      0       0      0       0   \n",
      "536367      1  ...      0      0      0      0      0       0      0       0   \n",
      "536368      0  ...      0      0      0      0      0       0      0       0   \n",
      "536369      0  ...      0      0      0      0      0       0      0       0   \n",
      "...       ...  ...    ...    ...    ...    ...    ...     ...    ...     ...   \n",
      "581583      0  ...      0      0      0      0      0       0      0       0   \n",
      "581584      0  ...      0      0      0      0      0       0      0       0   \n",
      "581585      1  ...      0      0      0      0      0       0      0       0   \n",
      "581586      0  ...      0      0      0      0      0       0      0       0   \n",
      "581587      0  ...      0      0      0      0      0       0      0       0   \n",
      "\n",
      "        47591b  23843  \n",
      "536365       0      0  \n",
      "536366       0      0  \n",
      "536367       0      0  \n",
      "536368       0      0  \n",
      "536369       0      0  \n",
      "...        ...    ...  \n",
      "581583       0      0  \n",
      "581584       0      0  \n",
      "581585       0      0  \n",
      "581586       0      0  \n",
      "581587       0      0  \n",
      "\n",
      "[22064 rows x 4059 columns]\n"
     ]
    }
   ],
   "source": [
    "print(\"The dataframe of matrix is\")\n",
    "new_df = pd.DataFrame(matrix)\n",
    "print(new_df)"
   ]
  },
  {
   "cell_type": "code",
   "execution_count": 196,
   "metadata": {},
   "outputs": [
    {
     "name": "stderr",
     "output_type": "stream",
     "text": [
      "c:\\Users\\USER\\AppData\\Local\\Programs\\Python\\Python311\\Lib\\site-packages\\mlxtend\\frequent_patterns\\fpcommon.py:109: DeprecationWarning: DataFrames with non-bool types result in worse computationalperformance and their support might be discontinued in the future.Please use a DataFrame with bool type\n",
      "  warnings.warn(\n"
     ]
    },
    {
     "name": "stdout",
     "output_type": "stream",
     "text": [
      "The frequent itemsets in new dataframe are\n",
      "       support        itemsets\n",
      "0     0.099891        (85123A)\n",
      "1     0.020848        (84029G)\n",
      "2     0.019579        (84029E)\n",
      "3     0.017223         (22752)\n",
      "4     0.015092         (71053)\n",
      "...        ...             ...\n",
      "1562  0.010424  (23296, 23295)\n",
      "1563  0.011467  (23294, 23293)\n",
      "1564  0.010651  (23294, 23295)\n",
      "1565  0.010696  (23356, 23355)\n",
      "1566  0.012192  (23355, 22112)\n",
      "\n",
      "[1567 rows x 2 columns]\n"
     ]
    }
   ],
   "source": [
    "frequent_itemsets = fpgrowth(matrix, min_support=0.01, use_colnames=True)\n",
    "print(\"The frequent itemsets in new dataframe are\")\n",
    "print(frequent_itemsets)"
   ]
  },
  {
   "cell_type": "code",
   "execution_count": 197,
   "metadata": {},
   "outputs": [
    {
     "name": "stdout",
     "output_type": "stream",
     "text": [
      "The rules obtained are:\n",
      "              antecedents consequents  antecedent support  consequent support  \\\n",
      "0          (22356, 20723)     (20724)            0.017177            0.046864   \n",
      "1   (22356, 22355, 20723)     (20724)            0.012282            0.046864   \n",
      "2   (22356, 20723, 20719)     (20724)            0.011920            0.046864   \n",
      "3   (22355, 20723, 20719)     (20724)            0.013733            0.046864   \n",
      "4   (22411, 22386, 21931)    (85099B)            0.014005            0.094815   \n",
      "5          (21080, 21086)     (21094)            0.013416            0.023885   \n",
      "6                 (22916)     (22917)            0.010741            0.010877   \n",
      "7                 (22917)     (22916)            0.010877            0.010741   \n",
      "8   (22355, 20719, 22356)     (20724)            0.013234            0.046864   \n",
      "9         (85099B, 21935)       (DOT)            0.012781            0.032134   \n",
      "10         (22577, 22579)     (22578)            0.011285            0.023251   \n",
      "11         (22745, 22746)     (22748)            0.011784            0.019761   \n",
      "12         (22748, 22746)     (22745)            0.011875            0.019172   \n",
      "13         (22423, 22698)     (22697)            0.017766            0.046003   \n",
      "14  (22697, 22423, 22698)     (22699)            0.015546            0.048314   \n",
      "15  (22423, 22699, 22698)     (22697)            0.015002            0.046003   \n",
      "16         (22697, 22698)     (22699)            0.028689            0.048314   \n",
      "17         (22699, 22698)     (22697)            0.027148            0.046003   \n",
      "18                (23172)     (23171)            0.013823            0.017268   \n",
      "19                (23172)     (23170)            0.013823            0.020169   \n",
      "20         (23172, 23171)     (23170)            0.012600            0.020169   \n",
      "21         (23172, 23170)     (23171)            0.012192            0.017268   \n",
      "\n",
      "     support  confidence       lift  leverage  conviction  zhangs_metric  \n",
      "0   0.014775    0.860158  18.354481  0.013970    6.815824       0.962043  \n",
      "1   0.011104    0.904059  19.291256  0.010528    9.934613       0.959954  \n",
      "2   0.010968    0.920152  19.634657  0.010409   11.936898       0.960519  \n",
      "3   0.011784    0.858086  18.310257  0.011140    6.716286       0.958549  \n",
      "4   0.012146    0.867314   9.147426  0.010819    6.822003       0.903331  \n",
      "5   0.012011    0.895270  37.482435  0.011690    9.320323       0.986556  \n",
      "6   0.010016    0.932489  85.726864  0.009899   14.651378       0.999066  \n",
      "7   0.010016    0.920833  85.726864  0.009899   12.495897       0.999204  \n",
      "8   0.011376    0.859589  18.342333  0.010756    6.788190       0.958162  \n",
      "9   0.011285    0.882979  27.478198  0.010875    8.270857       0.976083  \n",
      "10  0.010470    0.927711  39.900608  0.010207   13.511701       0.986066  \n",
      "11  0.010152    0.861538  43.598589  0.009919    7.079506       0.988714  \n",
      "12  0.010152    0.854962  44.595456  0.009925    6.762554       0.989324  \n",
      "13  0.015546    0.875000  19.020690  0.014728    7.631980       0.964563  \n",
      "14  0.013642    0.877551  18.163495  0.012891    7.772102       0.959866  \n",
      "15  0.013642    0.909366  19.767726  0.012952   10.525772       0.963872  \n",
      "16  0.024565    0.856240  17.722404  0.023179    6.619970       0.971444  \n",
      "17  0.024565    0.904841  19.669380  0.023316   10.025342       0.975647  \n",
      "18  0.012600    0.911475  52.784235  0.012361   11.101232       0.994807  \n",
      "19  0.012192    0.881967  43.729718  0.011913    8.301349       0.990829  \n",
      "20  0.011557    0.917266  45.479913  0.011303   11.843180       0.990492  \n",
      "21  0.011557    0.947955  54.896818  0.011347   18.882494       0.993901  \n"
     ]
    }
   ],
   "source": [
    "rules = association_rules(frequent_itemsets, metric=\"confidence\", min_threshold=0.85)\n",
    "print(\"The rules obtained are:\")\n",
    "print(rules)"
   ]
  },
  {
   "cell_type": "code",
   "execution_count": null,
   "metadata": {},
   "outputs": [],
   "source": []
  }
 ],
 "metadata": {
  "kernelspec": {
   "display_name": "Python 3",
   "language": "python",
   "name": "python3"
  },
  "language_info": {
   "codemirror_mode": {
    "name": "ipython",
    "version": 3
   },
   "file_extension": ".py",
   "mimetype": "text/x-python",
   "name": "python",
   "nbconvert_exporter": "python",
   "pygments_lexer": "ipython3",
   "version": "3.11.6"
  }
 },
 "nbformat": 4,
 "nbformat_minor": 2
}
